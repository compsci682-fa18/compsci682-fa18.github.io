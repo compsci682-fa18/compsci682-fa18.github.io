{
 "cells": [
  {
   "cell_type": "markdown",
   "metadata": {},
   "source": [
    "# CS682 Discussion Session 01: Slicing and Broadcasting in Python\n",
    "\n",
    "## 1. Python List and Numpy Array (ndarray)\n",
    "\n",
    "### 1.1 Difference between List and Numpy Array\n",
    "- List is a collection of items. The items in a List can be numbers, strings, list, Numpy Array, etc.  \n",
    "- Numpy Array is a grid of values, all of the same data type."
   ]
  },
  {
   "cell_type": "code",
   "execution_count": null,
   "metadata": {},
   "outputs": [],
   "source": [
    "my_list = [1, '2', [3]]\n",
    "my_list += [4.01]\n",
    "my_list.append(4)\n",
    "my_list.append([5,6])\n",
    "my_list += [7,8,9]\n",
    "print('my_list:', my_list)\n",
    "print(type(my_list))"
   ]
  },
  {
   "cell_type": "code",
   "execution_count": null,
   "metadata": {},
   "outputs": [],
   "source": [
    "l1 = [0, 1, 2, 3, 4]\n",
    "s_l1 = [x**2 for x in l1]\n",
    "print('s_l1:', s_l1)\n",
    "\n",
    "s_l1 = [x**2 for x in l1 if x % 2 == 0]\n",
    "print('s_l1:', s_l1)"
   ]
  },
  {
   "cell_type": "code",
   "execution_count": null,
   "metadata": {},
   "outputs": [],
   "source": [
    "import numpy as np\n",
    "my_arr = np.array(['hello', 1])\n",
    "print('my_arr:', my_arr)\n",
    "print(type(my_arr))\n",
    "print('shape:', my_arr.shape)\n",
    "print('dtype:', my_arr.dtype)\n",
    "my_arr[1]+3 # Error"
   ]
  },
  {
   "cell_type": "markdown",
   "metadata": {},
   "source": [
    "### 1.2 len, size, shape, indexing"
   ]
  },
  {
   "cell_type": "code",
   "execution_count": null,
   "metadata": {},
   "outputs": [],
   "source": [
    "l = [[0, 1, 2, 3], [4, 5, 6, 7]]\n",
    "a = np.arange(8).reshape((2,4))\n",
    "print(l)\n",
    "print(len(l))\n",
    "print('----------')\n",
    "print(a)\n",
    "print(len(a))\n",
    "print(a.size)\n",
    "print(a.shape)"
   ]
  },
  {
   "cell_type": "code",
   "execution_count": null,
   "metadata": {},
   "outputs": [],
   "source": [
    "print(a[1], type(a[1]))\n",
    "print(a[1][2])\n",
    "print(a[1, 2])\n",
    "print('----------')\n",
    "print(l[1][2])\n",
    "print(l[1, 2]) #TypeError"
   ]
  },
  {
   "cell_type": "markdown",
   "metadata": {},
   "source": [
    "### 1.3 Transfer between List and Numpy Array\n",
    "\n",
    "- List to Numpy Array: a = np.array(l) or a = np.asarray(l)  \n",
    "- Numpy Array to List: l = a.tolist()"
   ]
  },
  {
   "cell_type": "code",
   "execution_count": null,
   "metadata": {},
   "outputs": [],
   "source": [
    "l = [[0, 1, 2, 3], [4, 5, 6, 7]]\n",
    "a = np.array(l)\n",
    "a1 = np.asarray(l)  # array(a, dtype, copy=False, order=order)\n",
    "print('a:', a, type(a))\n",
    "print('a1:', a1, type(a1))\n"
   ]
  },
  {
   "cell_type": "code",
   "execution_count": null,
   "metadata": {},
   "outputs": [],
   "source": [
    "l1 = list(a)\n",
    "print('l1:', type(l1), l1)\n",
    "print('l1[0]:', type(l1[0]))\n",
    "print('--------')\n",
    "\n",
    "l2 = a.tolist()\n",
    "print('l2:', type(l2), l2)\n",
    "print('l2[0]:', type(l2[0]))\n"
   ]
  },
  {
   "cell_type": "markdown",
   "metadata": {},
   "source": [
    "## 2. Slicing\n",
    "\n",
    "### 2.1 Basic usage"
   ]
  },
  {
   "cell_type": "code",
   "execution_count": null,
   "metadata": {},
   "outputs": [],
   "source": [
    "a = np.arange(12)\n",
    "print(a)\n",
    "print(a.shape)\n",
    "print('-------')\n",
    "a = np.arange(12).reshape((3,4))\n",
    "print(a)\n",
    "print(a.shape)"
   ]
  },
  {
   "cell_type": "code",
   "execution_count": null,
   "metadata": {},
   "outputs": [],
   "source": [
    "row1 = a[1, :]  \n",
    "row2 = a[1]\n",
    "row3 = a[1:2, :]\n",
    "row4 = a[1:]\n",
    "print('row1\\n', row1, row1.shape )\n",
    "print('row2\\n', row2, row2.shape)\n",
    "print('row3\\n', row3, row3.shape)\n",
    "print('row4\\n', row4, row4.shape)\n",
    "print('-------')"
   ]
  },
  {
   "cell_type": "code",
   "execution_count": null,
   "metadata": {},
   "outputs": [],
   "source": [
    "col1 = a[:, -2:]\n",
    "col2 = a[:, 0:-1:2]\n",
    "print('col1\\n', col1, col1.shape) \n",
    "print('col2\\n', col2, col2.shape)\n",
    "print('-------')\n",
    "\n",
    "a1 = a[:]\n",
    "a2 = a[:, :]\n",
    "print(a1.shape)\n",
    "print(a2.shape)"
   ]
  },
  {
   "cell_type": "code",
   "execution_count": null,
   "metadata": {},
   "outputs": [],
   "source": [
    "a = np.arange(24).reshape((2, 3, 4))\n",
    "print('a.shape = ', a.shape)\n",
    "print(a)"
   ]
  },
  {
   "cell_type": "code",
   "execution_count": null,
   "metadata": {},
   "outputs": [],
   "source": [
    "a1 = a[1:2, 0:3, 1:3]\n",
    "print('a1.shape =', a1.shape)\n",
    "print(a1)"
   ]
  },
  {
   "cell_type": "code",
   "execution_count": null,
   "metadata": {},
   "outputs": [],
   "source": [
    "a2 = a[1, 0:3, 1:3]\n",
    "print('a2.shape =', a2.shape)\n",
    "print(a2)"
   ]
  },
  {
   "cell_type": "code",
   "execution_count": null,
   "metadata": {},
   "outputs": [],
   "source": [
    "a3 = a[0:2, -2, -1:]\n",
    "print('a3.shape =', a3.shape)\n",
    "print(a3)"
   ]
  },
  {
   "cell_type": "code",
   "execution_count": null,
   "metadata": {},
   "outputs": [],
   "source": [
    "a4 = a[0:2, -2, -1]\n",
    "print('a4.shape =', a4.shape)\n",
    "print(a4)\n"
   ]
  },
  {
   "cell_type": "markdown",
   "metadata": {},
   "source": [
    "### 2.2 Change of dimensions"
   ]
  },
  {
   "cell_type": "code",
   "execution_count": null,
   "metadata": {},
   "outputs": [],
   "source": [
    "a = np.arange(24).reshape((2, 3, 4))\n",
    "print('a.shape =', a.shape)\n",
    "print(a)\n",
    "#a.reshape((3,4,5)) # ValueError"
   ]
  },
  {
   "cell_type": "code",
   "execution_count": null,
   "metadata": {},
   "outputs": [],
   "source": [
    "a = np.arange(24).reshape((6,4))\n",
    "print(a.shape)\n",
    "print('----nexaxis----')\n",
    "print(a[np.newaxis,:, :].shape)\n",
    "print(a[:,np.newaxis,:].shape)\n",
    "print(a[:,:,np.newaxis].shape)\n",
    "\n",
    "print('----reshape----')\n",
    "print(a.reshape((1,6,4)).shape)\n",
    "print(a.reshape((6,1,4)).shape)\n",
    "print(a.reshape((6,4,1)).shape)\n",
    "\n",
    "print('----expand_dims----')\n",
    "print(np.expand_dims(a,axis=0).shape)\n",
    "print(np.expand_dims(a,axis=1).shape)\n",
    "print(np.expand_dims(a,axis=2).shape)"
   ]
  },
  {
   "cell_type": "markdown",
   "metadata": {},
   "source": [
    "### 2.3 Modify values\n",
    "[Python tutor link](http://www.pythontutor.com/) is useful to visually understand how Python works."
   ]
  },
  {
   "cell_type": "markdown",
   "metadata": {},
   "source": [
    "#### 2.3.1 list"
   ]
  },
  {
   "cell_type": "code",
   "execution_count": null,
   "metadata": {},
   "outputs": [],
   "source": [
    "l = list(range(5))\n",
    "print('original: ')\n",
    "print(l)\n",
    "l = [x for x in range(5)]\n",
    "print('original: ')\n",
    "print(l)\n",
    "\n",
    "print('exp1:')\n",
    "m = l\n",
    "print(m is l) #checks whether m and l refer to the same object\n",
    "print(m == l) #checks whether values are the same\n",
    "m[0] = -1\n",
    "print(l)\n",
    "\n",
    "print('exp2:')\n",
    "m = l[:]\n",
    "print(m is l)\n",
    "print(m == l)\n",
    "m[1] = -2\n",
    "print(l)\n",
    "\n",
    "print('exp3:')\n",
    "l[2] = -3\n",
    "print(l)"
   ]
  },
  {
   "cell_type": "markdown",
   "metadata": {},
   "source": [
    "#### 2.3.2 numpy array"
   ]
  },
  {
   "cell_type": "code",
   "execution_count": null,
   "metadata": {
    "scrolled": true
   },
   "outputs": [],
   "source": [
    "a = np.arange(5)\n",
    "print('original: ')\n",
    "print(a)"
   ]
  },
  {
   "cell_type": "code",
   "execution_count": null,
   "metadata": {},
   "outputs": [],
   "source": [
    "print('exp0:')\n",
    "a[3] = -10\n",
    "print(a)"
   ]
  },
  {
   "cell_type": "code",
   "execution_count": null,
   "metadata": {},
   "outputs": [],
   "source": [
    "print('exp1:')\n",
    "b = a\n",
    "print(a is b)\n",
    "print(a == b)\n",
    "b[1] = -1\n",
    "print(a)"
   ]
  },
  {
   "cell_type": "code",
   "execution_count": null,
   "metadata": {},
   "outputs": [],
   "source": [
    "print('exp2:')\n",
    "b = a[:]\n",
    "print(a is b)\n",
    "print(a == b)\n",
    "# print(id(a[0]), id(b[0]))\n",
    "b[2] = -2\n",
    "print(a)\n",
    "print(a == b)\n",
    "print('-----------------')"
   ]
  },
  {
   "cell_type": "code",
   "execution_count": null,
   "metadata": {},
   "outputs": [],
   "source": [
    "print('exp3:')\n",
    "b = a[:]\n",
    "b = np.array([5,4,3,2,1])\n",
    "print(a)\n",
    "print(a is b)\n",
    "print(a == b)\n"
   ]
  },
  {
   "cell_type": "code",
   "execution_count": null,
   "metadata": {},
   "outputs": [],
   "source": [
    "# Skip this cell\n",
    "\n",
    "a = np.arange(12).reshape((3,4))\n",
    "print('original: ')\n",
    "print(a)\n",
    "\n",
    "print('exp1:')\n",
    "a[1, 2] = -1\n",
    "print(a)\n",
    "\n",
    "print('exp2:')\n",
    "b = a[1, 2]\n",
    "b = -2\n",
    "print(a)\n",
    "\n",
    "print('exp3:')\n",
    "b = a\n",
    "b[1,2] = -3\n",
    "print(a)\n",
    "\n",
    "print('exp4:')\n",
    "b = a[:]\n",
    "b[1,2] = -4\n",
    "print(a)\n",
    "\n",
    "print('exp5:')\n",
    "b = a[2, :]\n",
    "b[1] = -5\n",
    "print(a)\n",
    "\n",
    "print('exp6:')\n",
    "b = a[2]\n",
    "b[1] = -6\n",
    "print(a)"
   ]
  },
  {
   "cell_type": "markdown",
   "metadata": {},
   "source": [
    "### 2.4 Other indexing tricks\n",
    "- Indexing with boolean array\n",
    "- Indexing with integer list / array"
   ]
  },
  {
   "cell_type": "code",
   "execution_count": null,
   "metadata": {},
   "outputs": [],
   "source": [
    "a = np.arange(12).reshape((3,4))\n",
    "print('original: ')\n",
    "print(a)\n",
    "\n",
    "print('\\nexp1:')\n",
    "idx = (a % 2 == 0)\n",
    "print(idx)\n",
    "print(type(idx))\n",
    "print(a[idx])\n",
    "\n",
    "print('\\nexp2:')\n",
    "idx = (a[0] < 3)\n",
    "print(idx)\n",
    "print(a[1:, idx])\n",
    "print(a[1:, idx.tolist()])\n",
    "\n",
    "print('\\nexp3:')\n",
    "idx = (a[0] < 3)\n",
    "b = a[1:, idx]  #   creates a copy of the data because idx is a boolean array\n",
    "b[0, 0] = -10\n",
    "print(b)\n",
    "print(a)"
   ]
  },
  {
   "cell_type": "code",
   "execution_count": null,
   "metadata": {},
   "outputs": [],
   "source": [
    "a = np.arange(12).reshape((3,4))\n",
    "print('original: ')\n",
    "print(a)\n",
    "\n",
    "print('\\nexp1:')\n",
    "print(a[1, [2,3]])  # [a[1,2], a[1,3]]\n",
    "print(a[1, np.array([2,3])])\n",
    "\n",
    "print('\\nexp2:')\n",
    "print(a[[0, 1, 2], [1, 2, 3]])  # [a[0,1], a[1,2], a[2,3]])\n",
    "print('***')\n",
    "print(a[[[0, 1, 2], [1, 2, 3]]])\n",
    "print('***')\n",
    "idx = np.array([[0, 1, 2], [1, 2, 0]])  # [[a[0], a[1], a[2]], [a[1], a[2], a[0]]]\n",
    "print(a[idx])"
   ]
  },
  {
   "cell_type": "markdown",
   "metadata": {},
   "source": [
    "## 3. Broadcasting\n",
    "### 3.1 The basic idea\n",
    "- Universal functions: functions that apply elementwise on arrays  \n",
    "    Examples: np.add, np.power, np.greater, np.log, np.absolute  \n",
    "- Universal functions that takes two input arrays:  \n",
    "    - Simplest case: two input arrays have same shape  \n",
    "    - Two inputs with different shapes? Broadcasting!  \n",
    "        Replicate values to make their shapes match  \n",
    "        Can avoid making redundant copies\n",
    "        \n",
    "**A simple example:**"
   ]
  },
  {
   "cell_type": "code",
   "execution_count": null,
   "metadata": {},
   "outputs": [],
   "source": [
    "a = np.arange(12).reshape((3,4))\n",
    "b = 1.1\n",
    "c = np.arange(4)\n",
    "d = np.arange(3)\n",
    "\n",
    "print(\"a =\",a)\n",
    "print('----------------')\n",
    "print(\"b =\",b)\n",
    "print('----------------')\n",
    "print(\"c =\",c)\n",
    "print('----------------')\n",
    "print(\"d =\",d)\n",
    "print('----------------')\n",
    "print(\"a*b =\\n\",a * b)\n",
    "print('----------------')\n",
    "print(\"(a * b) + c =\\n\",(a * b) + c)\n",
    "# print('----------------')\n",
    "print(\"(a * b) + c + d=\\n\",(a * b) + c + d[:,np.newaxis])"
   ]
  },
  {
   "cell_type": "code",
   "execution_count": null,
   "metadata": {},
   "outputs": [],
   "source": [
    "b1 = np.arange(3).reshape((3,1))\n",
    "b2 = np.arange(5).reshape((5,1))\n",
    "print(b1)\n",
    "print('----------')\n",
    "print(b2)\n",
    "print('----------')\n",
    "print(b1+b2.T)"
   ]
  },
  {
   "cell_type": "code",
   "execution_count": null,
   "metadata": {},
   "outputs": [],
   "source": [
    "b1_tile = np.tile(b1, (1,5))\n",
    "print(b1_tile)\n",
    "print('-----------')\n",
    "b2_tile = np.tile(b2.T, (3,1))\n",
    "print(b2_tile)\n",
    "print('-----------')\n",
    "print(b1_tile+b2_tile)"
   ]
  },
  {
   "cell_type": "markdown",
   "metadata": {},
   "source": [
    "### 3.2 The broadcasting rule\n",
    "**Example:**  \n",
    "Shape of A:   2 x 4 x 1 x 3  \n",
    "Shape of B:   5 x 1 \n",
    "Shape of A+B: 2 x 4 x 5 x 3\n",
    "\n",
    "- If one array has smaller dimension, fill 1's at the beginning of its shape\n",
    "    - B: 5 x 1 --> 1 x 1 x 5 x 1\n",
    "- Start from the last dimension and work forward\n",
    "- If one array has length 1 for the current dimension, replicate the values in that dimension\n",
    "    - A: 2 x 4 x 1 x 3 --> 2 x 4 x 5 x 3  \n",
    "    - B: 1 x 1 x 5 x 1 --> 2 x 4 x 5 x 3\n",
    "- If either array has greater than 1 for a dimension, and two arrays don't match: report an error"
   ]
  },
  {
   "cell_type": "code",
   "execution_count": null,
   "metadata": {},
   "outputs": [],
   "source": [
    "A = np.arange(2*4*3).reshape((2,4,1,3))\n",
    "B = np.arange(5).reshape((5,1)) * 0.1\n",
    "C = A + B\n",
    "print('A\\n', A)\n",
    "print('\\nB\\n', B)\n",
    "print('\\nC', C.shape)\n",
    "print(C)"
   ]
  },
  {
   "cell_type": "markdown",
   "metadata": {},
   "source": [
    "## 4. Advice\n",
    "- Keep track of shapes of the variables:  \n",
    "    - Write your expected shapes in the comments\n",
    "    - Print out the actual shapes and see if it matches\n",
    "- Make up small examples and test your code"
   ]
  },
  {
   "cell_type": "markdown",
   "metadata": {},
   "source": [
    "## 5. Practice Question\n",
    "100 students are divided into 5 teams (team 0,1,2,3,4). There are 3 courses. Each student has a grade (0 ~ 1) for each course.  \n",
    "The criteria of an \"honor student\" is that: for every course, the student needs to get a grade higher than the average grade of all the students that are not in the same team with him / her.  \n",
    "For example, when considering students from team 1, 2, 3 and 4, the average grade for the three courses are 0.8, 0.85, 0.9 respectively. An \"honor student\" from team 0 needs to get higher than 0.8, 0.85, 0.9 respectively for the three courses.\n",
    "\n",
    "teams = np.random.choice(5, size=100)  \n",
    "grades = np.random.rand(3, 100)\n",
    "\n",
    "Find out the number of honor students in each team."
   ]
  },
  {
   "cell_type": "code",
   "execution_count": null,
   "metadata": {},
   "outputs": [],
   "source": [
    "import numpy as np\n",
    "teams = np.random.choice(5, size=100)\n",
    "grades = np.random.rand(3, 100)\n",
    "print(teams.shape)\n",
    "print(grades.shape)\n",
    "\n",
    "# -------- count elements ------\n",
    "print('--------')\n",
    "elements, counts = np.unique(teams, return_counts=True)\n",
    "print(elements)\n",
    "print(counts)\n",
    "print('-----------')\n",
    "print(np.bincount(teams))\n",
    "print('-----------')\n",
    "import collections\n",
    "count = collections.Counter(teams)\n",
    "print(count)\n"
   ]
  },
  {
   "cell_type": "code",
   "execution_count": null,
   "metadata": {},
   "outputs": [],
   "source": [
    "team_mask = np.arange(5).reshape((5,1)) != teams  # 5x100\n",
    "print(team_mask.shape)\n",
    "print('-------')\n",
    "print(teams[:8])\n",
    "print('-------')\n",
    "print(team_mask[:, :8])\n",
    "print('-------')\n",
    "sum_grades = grades.dot(team_mask.T)  # 3x5\n",
    "print(sum_grades)\n"
   ]
  },
  {
   "cell_type": "code",
   "execution_count": null,
   "metadata": {},
   "outputs": [],
   "source": [
    "count_students = np.sum(team_mask, axis=1)  # 5\n",
    "print(count_students)\n",
    "\n",
    "ave_grades = sum_grades / count_students  # 3x5\n",
    "print(ave_grades)"
   ]
  },
  {
   "cell_type": "code",
   "execution_count": null,
   "metadata": {},
   "outputs": [],
   "source": [
    "require_grades = ave_grades[:, teams]  # 3x100\n",
    "print(require_grades.shape)\n",
    "print(require_grades[:, :4])"
   ]
  },
  {
   "cell_type": "code",
   "execution_count": null,
   "metadata": {},
   "outputs": [],
   "source": [
    "is_honor = np.all(grades > require_grades, axis=0)  # 100\n",
    "print(is_honor.shape)\n",
    "print(grades[:, :4])\n",
    "print(is_honor[:4])"
   ]
  },
  {
   "cell_type": "code",
   "execution_count": null,
   "metadata": {},
   "outputs": [],
   "source": [
    "team_honor = (np.arange(5).reshape((5,1)) == teams) * is_honor  # 5x100\n",
    "print(team_honor.shape)\n",
    "print(team_honor[:, :4])\n",
    "\n",
    "honor_count = np.sum(team_honor, axis=1)  # 5\n",
    "print(honor_count.shape)\n",
    "print(honor_count)"
   ]
  },
  {
   "cell_type": "markdown",
   "metadata": {
    "collapsed": true
   },
   "source": [
    "## 6. Miscellaneous"
   ]
  },
  {
   "cell_type": "markdown",
   "metadata": {},
   "source": [
    "Disassembler for python bytecode"
   ]
  },
  {
   "cell_type": "code",
   "execution_count": null,
   "metadata": {},
   "outputs": [],
   "source": [
    "from dis import dis \n",
    "a = list(range(5))\n",
    "print(a)\n",
    "dis(\"a[1]\")\n",
    "print('-------')\n",
    "dis(\"a[1, :]\")\n",
    "print('-------')\n",
    "dis(\"a[1:2, :]\")\n",
    "print('-------')\n",
    "\n",
    "dis(\"a[::1]\")\n",
    "print('-------')\n",
    "dis(\"a[None:None:1]\")\n",
    "dis(\"a[0:5:1]\")\n",
    "\n",
    "print('-------')\n",
    "dis(\"a[::-1]\")\n",
    "dis(\"a[None:None:-1]\")\n",
    "dis(\"a[-1:-6:-1]\")\n",
    "# print(a[-1:-6:-1])"
   ]
  }
 ],
 "metadata": {
  "kernelspec": {
   "display_name": "Python 3",
   "language": "python",
   "name": "python3"
  },
  "language_info": {
   "codemirror_mode": {
    "name": "ipython",
    "version": 3
   },
   "file_extension": ".py",
   "mimetype": "text/x-python",
   "name": "python",
   "nbconvert_exporter": "python",
   "pygments_lexer": "ipython3",
   "version": "3.6.5"
  }
 },
 "nbformat": 4,
 "nbformat_minor": 1
}
